{
 "cells": [
  {
   "cell_type": "code",
   "execution_count": 5,
   "metadata": {
    "collapsed": true
   },
   "outputs": [],
   "source": [
    "import numpy as np\n",
    "import pandas as pd\n",
    "import matplotlib.pyplot as plt"
   ]
  },
  {
   "cell_type": "code",
   "execution_count": 9,
   "metadata": {
    "collapsed": true
   },
   "outputs": [],
   "source": [
    "#import the salinization wetland dataset\n",
    "peat_cols = ['decday', 'datetime', 'wm_gf', 'wm', 'wc_gf', 'gpp_ANNnight', 'er_ANNnight', 'wq_gf', 'TA.y', 'sal', 'PAR', 'VPD', 'PA.x', \n",
    "         'PRECIP', 'ustar', 'WT', 'H_gf', 'TW_WATER_10cm']\n",
    "\n",
    "peat = pd.read_csv('data/peat6_all.csv', usecols=peat_cols, index_col='datetime', parse_dates=True)"
   ]
  },
  {
   "cell_type": "code",
   "execution_count": 6,
   "metadata": {
    "collapsed": true
   },
   "outputs": [],
   "source": [
    "def entropy(x, bins = 10):\n",
    "    \n",
    "    counts = x.value_counts(bins = bins)\n",
    "    probs = counts / np.sum(counts)\n",
    "    \n",
    "    return - np.sum(probs * np.log2(probs))\n",
    "\n",
    "def joint_entropy(x, y, bins = 10):\n",
    "    \n",
    "    combined = pd.concat([x, y], axis=1).dropna() #drop all rows with NA in both variables\n",
    "    j_probs = pd.crosstab(pd.cut(combined.iloc[:, 0], bins = bins), \n",
    "                          pd.cut(combined.iloc[:, 1], bins = bins)) / len(combined)\n",
    "    \n",
    "    return - np.sum(np.sum(j_probs * np.log2(j_probs)))\n",
    "\n",
    "def entropy_3d(x, y, z, bins = 10):\n",
    "    \n",
    "    combined = pd.concat([x, y, z], axis = 1).dropna()\n",
    "    j_probs = pd.crosstab(pd.cut(combined.iloc[:, 0], bins = bins),\n",
    "                          pd.cut(combined.iloc[:, 1], bins = bins),\n",
    "                          pd.cut(combined.iloc[:, 2], bins = bins))\n",
    "    \n",
    "    return - np.sum(np.sum(j_probs * np.log2(j_probs)))\n",
    "\n",
    "def mutual_information(x, y, bins = 10, normalize = True):\n",
    "    \n",
    "    Hx = entropy(x, bins = bins)\n",
    "    Hy = entropy(y, bins = bins)\n",
    "    Hxy = joint_entropy(x, y, bins = bins)\n",
    "    \n",
    "    if normalize == True:\n",
    "        MI = (Hx + Hy - Hxy) / Hy\n",
    "    else:\n",
    "        MI = Hx + Hy - Hxy\n",
    "        \n",
    "    return MI"
   ]
  },
  {
   "cell_type": "code",
   "execution_count": 40,
   "metadata": {
    "collapsed": true
   },
   "outputs": [],
   "source": [
    "def MI_timeseries(x, y, bins = 10, normalize = True,\n",
    "                  runs = 100, alpha = 0.05, MC_runs = True):\n",
    "    \n",
    "    #combine variables and create monthly stamp\n",
    "    combined = pd.concat([x, y], axis=1).dropna()\n",
    "    combined['Yr_mnth'] = combined.index.strftime('%Y%m')\n",
    "    cols = combined.columns\n",
    "    \n",
    "    #subset data my month, calculate and save mutual information\n",
    "    time_index = combined['Yr_mnth'].unique()\n",
    "    MI_out = np.empty(len(time_index)) #empty MI array\n",
    "    \n",
    "    if MC_runs == True:\n",
    "        MI_MC = np.empty([len(time_index), runs]) #raw MC runs matrix\n",
    "    \n",
    "    for i in range(len(time_index)):\n",
    "        \n",
    "        monthly = combined[combined.Yr_mnth == time_index[i]]\n",
    "        MI_out[i] = mutual_information(monthly[cols[0]], monthly[cols[1]], \n",
    "                                       bins = bins, normalize=normalize)\n",
    "        \n",
    "        if MC_runs == True:\n",
    "            \n",
    "            for j in range(runs):\n",
    "                #x_shuffle = monthly[cols[0]].sample(len(monthly), replace = False) #shuffle x\n",
    "                \n",
    "                MI_MC[i, j] = 4#mutual_information(monthly[cols[0]], monthly[cols[1]], \n",
    "                               #                  bins = bins, normalize = normalize)\n",
    "            \n",
    "            \n",
    "    \n",
    "    if MC_runs == True:\n",
    "        return MI_out, MI_MC\n",
    "    \n",
    "    return MI_out"
   ]
  },
  {
   "cell_type": "code",
   "execution_count": 41,
   "metadata": {},
   "outputs": [
    {
     "name": "stderr",
     "output_type": "stream",
     "text": [
      "/Users/samchamberlain/anaconda3/lib/python3.6/site-packages/ipykernel_launcher.py:6: RuntimeWarning: divide by zero encountered in log2\n",
      "  \n",
      "/Users/samchamberlain/anaconda3/lib/python3.6/site-packages/ipykernel_launcher.py:14: RuntimeWarning: divide by zero encountered in log2\n",
      "  \n"
     ]
    }
   ],
   "source": [
    "GPP_mi, GPP_mc = MI_timeseries(peat['gpp_ANNnight'], peat['wm'], MC_runs = True, runs = 4)"
   ]
  },
  {
   "cell_type": "code",
   "execution_count": 45,
   "metadata": {},
   "outputs": [
    {
     "data": {
      "text/plain": [
       "array([ 4.,  4.,  4.,  4.])"
      ]
     },
     "execution_count": 45,
     "metadata": {},
     "output_type": "execute_result"
    }
   ],
   "source": [
    "GPP_mc[-1]"
   ]
  },
  {
   "cell_type": "code",
   "execution_count": 35,
   "metadata": {},
   "outputs": [],
   "source": [
    "MI_MC = np.empty([45, 4]) #raw MC runs matrix"
   ]
  },
  {
   "cell_type": "code",
   "execution_count": 38,
   "metadata": {
    "collapsed": true
   },
   "outputs": [],
   "source": [
    "MI_MC[0, 0] = 4\n",
    "MI_MC[0, 1] = 10"
   ]
  },
  {
   "cell_type": "code",
   "execution_count": 39,
   "metadata": {},
   "outputs": [
    {
     "data": {
      "text/plain": [
       "array([[  4.00000000e+000,   1.00000000e+001,   6.94266008e-310,\n",
       "          2.19930238e-314],\n",
       "       [  0.00000000e+000,   0.00000000e+000,               nan,\n",
       "          0.00000000e+000],\n",
       "       [ -1.57701477e+304,   0.00000000e+000,   4.44659081e-323,\n",
       "          2.24697747e-314],\n",
       "       [  6.94265735e-310,   0.00000000e+000,   0.00000000e+000,\n",
       "                      nan],\n",
       "       [  2.24697659e-314,   2.12199579e-314,   3.55727265e-322,\n",
       "          3.45845952e-323],\n",
       "       [  2.24697747e-314,   6.94265735e-310,   0.00000000e+000,\n",
       "          4.94065646e-324],\n",
       "       [  4.94065646e-324,   2.24697659e-314,   2.12199579e-314,\n",
       "          7.11454530e-322],\n",
       "       [  1.48219694e-323,   2.24697747e-314,   6.94265735e-310,\n",
       "          0.00000000e+000],\n",
       "       [  4.94065646e-324,   4.94065646e-324,   0.00000000e+000,\n",
       "          0.00000000e+000],\n",
       "       [  1.06718180e-321,   4.44659081e-323,   2.24697747e-314,\n",
       "          6.94265735e-310],\n",
       "       [  0.00000000e+000,   1.97626258e-323,   4.94065646e-324,\n",
       "          0.00000000e+000],\n",
       "       [  0.00000000e+000,   1.42290906e-321,   4.44659081e-323,\n",
       "          2.24697747e-314],\n",
       "       [  6.94265735e-310,   2.47032823e-323,   1.97626258e-323,\n",
       "          4.94065646e-324],\n",
       "       [  0.00000000e+000,   0.00000000e+000,   1.77863633e-321,\n",
       "          4.44659081e-323],\n",
       "       [  2.24697747e-314,   6.94265735e-310,   0.00000000e+000,\n",
       "          2.96439388e-323],\n",
       "       [  1.48219694e-323,   0.00000000e+000,   0.00000000e+000,\n",
       "          2.13436359e-321],\n",
       "       [  5.43472210e-323,   2.24697749e-314,   6.94265735e-310,\n",
       "          1.97626258e-322],\n",
       "       [  2.96439388e-323,   1.48219694e-323,   0.00000000e+000,\n",
       "          0.00000000e+000],\n",
       "       [  2.49009086e-321,   4.94065646e-323,   2.24697749e-314,\n",
       "          6.94265735e-310],\n",
       "       [  0.00000000e+000,   0.00000000e+000,   0.00000000e+000,\n",
       "          0.00000000e+000],\n",
       "       [  0.00000000e+000,   0.00000000e+000,   0.00000000e+000,\n",
       "          0.00000000e+000],\n",
       "       [  0.00000000e+000,   0.00000000e+000,   0.00000000e+000,\n",
       "          0.00000000e+000],\n",
       "       [  0.00000000e+000,   2.24697771e-314,   0.00000000e+000,\n",
       "          2.13436359e-321],\n",
       "       [  9.88131292e-324,   2.24697771e-314,   6.94265801e-310,\n",
       "                      nan],\n",
       "       [  1.28457068e-322,               nan,   2.24697772e-314,\n",
       "          6.94253363e-310],\n",
       "       [  3.59679790e-321,   4.44659081e-323,   2.24697772e-314,\n",
       "          6.94265801e-310],\n",
       "       [  0.00000000e+000,               nan,   2.24697667e-314,\n",
       "          0.00000000e+000],\n",
       "       [  2.12199579e-314,   0.00000000e+000,   0.00000000e+000,\n",
       "          0.00000000e+000],\n",
       "       [  0.00000000e+000,   0.00000000e+000,   0.00000000e+000,\n",
       "          0.00000000e+000],\n",
       "       [  0.00000000e+000,   0.00000000e+000,   2.24697771e-314,\n",
       "          0.00000000e+000],\n",
       "       [  2.24697771e-314,   0.00000000e+000,   2.24697771e-314,\n",
       "          0.00000000e+000],\n",
       "       [  2.24697771e-314,   2.24697771e-314,   3.91299992e-321,\n",
       "          9.88131292e-324],\n",
       "       [  2.24697771e-314,   6.94265801e-310,   0.00000000e+000,\n",
       "          7.90505033e-323],\n",
       "       [              nan,   1.52241340e-091,   2.12199579e-314,\n",
       "          2.19454634e-314],\n",
       "       [  5.76958353e-256,   2.24030470e-314,   2.24690289e-314,\n",
       "         -8.89470000e+000],\n",
       "       [ -5.84920000e+000,  -3.33610000e+000,  -1.70280000e+000,\n",
       "         -3.49770000e-001],\n",
       "       [ -3.39370000e-001,  -7.61420000e-002,  -4.49360000e-002,\n",
       "         -1.79220000e-001],\n",
       "       [ -5.42610000e-001,  -5.24380000e-001,  -5.62030000e-001,\n",
       "         -6.51380000e-001],\n",
       "       [ -1.02150000e+000,  -1.89500000e+000,  -3.83200000e-001,\n",
       "         -8.83160000e-001],\n",
       "       [  1.79430000e+000,   5.87060000e-001,   3.92020000e-002,\n",
       "          2.15270000e-001],\n",
       "       [ -2.68470000e-001,  -1.50940000e-001,  -1.95270000e+000,\n",
       "         -4.16700000e+000],\n",
       "       [ -6.86260000e+000,  -7.56040000e+000,  -1.52830000e+001,\n",
       "         -1.71645000e+001],\n",
       "       [ -2.13303000e+001,  -1.51621000e+001,  -1.93998000e+001,\n",
       "         -2.13988000e+001],\n",
       "       [ -2.04397000e+001,  -2.02837000e+001,  -2.24012000e+001,\n",
       "         -2.17517000e+001],\n",
       "       [ -2.12905000e+001,  -2.19710000e+001,  -1.78383000e+001,\n",
       "         -2.03954000e+001]])"
      ]
     },
     "execution_count": 39,
     "metadata": {},
     "output_type": "execute_result"
    }
   ],
   "source": [
    "MI_MC"
   ]
  },
  {
   "cell_type": "code",
   "execution_count": null,
   "metadata": {
    "collapsed": true
   },
   "outputs": [],
   "source": []
  }
 ],
 "metadata": {
  "kernelspec": {
   "display_name": "Python 3",
   "language": "python",
   "name": "python3"
  },
  "language_info": {
   "codemirror_mode": {
    "name": "ipython",
    "version": 3
   },
   "file_extension": ".py",
   "mimetype": "text/x-python",
   "name": "python",
   "nbconvert_exporter": "python",
   "pygments_lexer": "ipython3",
   "version": "3.6.3"
  }
 },
 "nbformat": 4,
 "nbformat_minor": 2
}
